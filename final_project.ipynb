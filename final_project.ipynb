{
 "cells": [
  {
   "cell_type": "code",
   "execution_count": 1,
   "metadata": {},
   "outputs": [],
   "source": [
    "import pandas as pd\n",
    "import numpy as np\n",
    "import statsmodels.api as sm\n",
    "from itertools import combinations\n",
    "import seaborn as sns\n",
    "import matplotlib.pyplot as plt\n",
    "from statsmodels.graphics.gofplots import ProbPlot\n",
    "from statsmodels.stats.outliers_influence import variance_inflation_factor\n",
    "import itertools\n",
    "import warnings\n",
    "import matplotlib.pyplot as plt\n",
    "warnings.filterwarnings(\"ignore\")\n",
    "pd.set_option('display.max_colwidth', None)"
   ]
  },
  {
   "cell_type": "markdown",
   "metadata": {},
   "source": [
    "### The Break Down of Work\n",
    "- **Pranav Kumar Jain Rajesh Kumar:** Introduction, Motivation & Graphs on Regression Assumption, Multicollinearity, Heteroscedasticity, and Influential Points blog content, Python code\n",
    "- **Xiangling(Monika) Liu:** MLR & The Model Selection Process blog content, Python code \n",
    "- **Samanvitha Chowdary Bayaneni:** Advanced topics discussion - HQC metric for model evaluation, polynomial models blog content, Python code\n",
    "- **Yewon Park:** Deployment of blog post & model selection application on Streamlit"
   ]
  },
  {
   "cell_type": "markdown",
   "metadata": {},
   "source": [
    "---"
   ]
  },
  {
   "cell_type": "markdown",
   "metadata": {},
   "source": [
    "### Introduction\n",
    "Selecting the right statistical model for a dataset can be a daunting task, particularly when faced with a wide range of options and evaluation criteria. With so many factors to consider—such as how well a model fits the data, whether its assumptions hold, and how it performs across different metrics—data scientists often struggle to make informed decisions efficiently. To address this, we developed a user-friendly tool that simplifies the model selection process.\n",
    "\n",
    "Our platform enables users to upload datasets, specify input and target variables, and explore a variety of linear model combinations. The system then compares the user's selected model with the statistically optimal model, based on metrics such as Akaike Information Criterion (AIC), Bayesian Information Criterion (BIC), Adjusted R², Mallows’ Cp, and the Hannan-Quinn Criterion (HQC). In addition, it provides insights into model performance through error plots and diagnostic checks for issues like multicollinearity, giving users deeper understanding and confidence in their final model choices."
   ]
  },
  {
   "cell_type": "markdown",
   "metadata": {},
   "source": [
    "### Motivation\n",
    "The primary motivation for developing this tool stems from the common frustrations encountered during the model selection process. In practical data analysis, choosing the right model is crucial not only for accuracy but also for ensuring interpretability and reliability. Yet, many practitioners, especially those new to data science or machine learning, struggle to navigate the maze of statistical evaluations and theoretical assumptions.\n",
    "\n",
    "This challenge becomes particularly apparent when attempting to compare models based on different criteria, like AIC or BIC, and interpreting results while avoiding over-reliance on p-values. Moreover, understanding model diagnostics—such as whether assumptions like multicollinearity or homoskedasticity hold—requires significant expertise, which is often lacking or time-consuming to apply.\n",
    "\n",
    "By automating model comparison and providing clear explanations of why one model may be better than another, we aim to lower the barrier to effective model selection. Additionally, visualizing key metrics and offering comprehensive diagnostic insights helps users learn and gain confidence in their choices, ultimately making the model selection process more transparent and accessible to both beginners and experienced data scientists alike."
   ]
  },
  {
   "cell_type": "markdown",
   "metadata": {},
   "source": [
    "---"
   ]
  },
  {
   "cell_type": "markdown",
   "metadata": {},
   "source": [
    "### Model Selection Process"
   ]
  },
  {
   "cell_type": "markdown",
   "metadata": {},
   "source": [
    "### Data"
   ]
  },
  {
   "cell_type": "code",
   "execution_count": 2,
   "metadata": {},
   "outputs": [
    {
     "data": {
      "text/html": [
       "<div>\n",
       "<style scoped>\n",
       "    .dataframe tbody tr th:only-of-type {\n",
       "        vertical-align: middle;\n",
       "    }\n",
       "\n",
       "    .dataframe tbody tr th {\n",
       "        vertical-align: top;\n",
       "    }\n",
       "\n",
       "    .dataframe thead th {\n",
       "        text-align: right;\n",
       "    }\n",
       "</style>\n",
       "<table border=\"1\" class=\"dataframe\">\n",
       "  <thead>\n",
       "    <tr style=\"text-align: right;\">\n",
       "      <th></th>\n",
       "      <th>cons</th>\n",
       "      <th>income</th>\n",
       "      <th>price</th>\n",
       "      <th>temp</th>\n",
       "      <th>time</th>\n",
       "    </tr>\n",
       "  </thead>\n",
       "  <tbody>\n",
       "    <tr>\n",
       "      <th>0</th>\n",
       "      <td>0.386</td>\n",
       "      <td>78</td>\n",
       "      <td>0.270</td>\n",
       "      <td>41</td>\n",
       "      <td>1</td>\n",
       "    </tr>\n",
       "    <tr>\n",
       "      <th>1</th>\n",
       "      <td>0.374</td>\n",
       "      <td>79</td>\n",
       "      <td>0.282</td>\n",
       "      <td>56</td>\n",
       "      <td>2</td>\n",
       "    </tr>\n",
       "    <tr>\n",
       "      <th>2</th>\n",
       "      <td>0.393</td>\n",
       "      <td>81</td>\n",
       "      <td>0.277</td>\n",
       "      <td>63</td>\n",
       "      <td>3</td>\n",
       "    </tr>\n",
       "    <tr>\n",
       "      <th>3</th>\n",
       "      <td>0.425</td>\n",
       "      <td>80</td>\n",
       "      <td>0.280</td>\n",
       "      <td>68</td>\n",
       "      <td>4</td>\n",
       "    </tr>\n",
       "    <tr>\n",
       "      <th>4</th>\n",
       "      <td>0.406</td>\n",
       "      <td>76</td>\n",
       "      <td>0.272</td>\n",
       "      <td>69</td>\n",
       "      <td>5</td>\n",
       "    </tr>\n",
       "  </tbody>\n",
       "</table>\n",
       "</div>"
      ],
      "text/plain": [
       "    cons  income  price  temp  time\n",
       "0  0.386      78  0.270    41     1\n",
       "1  0.374      79  0.282    56     2\n",
       "2  0.393      81  0.277    63     3\n",
       "3  0.425      80  0.280    68     4\n",
       "4  0.406      76  0.272    69     5"
      ]
     },
     "execution_count": 2,
     "metadata": {},
     "output_type": "execute_result"
    }
   ],
   "source": [
    "icecream = pd.read_csv('../data/IceCreamConsumption.csv')\n",
    "icecream.head()"
   ]
  },
  {
   "cell_type": "markdown",
   "metadata": {},
   "source": [
    "For this data, our response variable is ice cream consumption and we have customer income, ice cream price, day temperature as the potential predictors. All of them are numeric variables. "
   ]
  },
  {
   "cell_type": "markdown",
   "metadata": {},
   "source": [
    "### Model Selection"
   ]
  },
  {
   "cell_type": "markdown",
   "metadata": {},
   "source": [
    "Fit regression models for all possible combinations of predictors."
   ]
  },
  {
   "cell_type": "code",
   "execution_count": 3,
   "metadata": {},
   "outputs": [],
   "source": [
    "def best_subset_selection(X, y):\n",
    "    n, p = X.shape\n",
    "    models = []\n",
    "    \n",
    "    for k in range(1, p + 1):  # Iterate over subset sizes\n",
    "        for combo in combinations(range(1, p), k):  # Generate combinations of predictors\n",
    "            combo = (0,) + combo  # Include the intercept\n",
    "            X_subset = X[:, combo]\n",
    "            model = sm.OLS(y, X_subset).fit()\n",
    "            models.append((model, combo))\n",
    "    \n",
    "    return models"
   ]
  },
  {
   "cell_type": "markdown",
   "metadata": {},
   "source": [
    "Calculate Mallow's Cp."
   ]
  },
  {
   "cell_type": "code",
   "execution_count": 4,
   "metadata": {},
   "outputs": [],
   "source": [
    "def get_cp(sse_k, mse_p, num_params, n):\n",
    "    return (sse_k / mse_p) + 2 * num_params - n"
   ]
  },
  {
   "cell_type": "markdown",
   "metadata": {},
   "source": [
    "Calculate all the metrics except for Mallow's Cp (i.e. Adjusted R^2, AIC, BIC, PRESS)."
   ]
  },
  {
   "cell_type": "code",
   "execution_count": 5,
   "metadata": {},
   "outputs": [],
   "source": [
    "def calculate_metrics(model, X, y):\n",
    "    n = len(y)\n",
    "    k = model.df_model  # Number of predictors, excluding intercept\n",
    "\n",
    "    # AIC\n",
    "    aic = model.aic\n",
    "    \n",
    "    # BIC\n",
    "    bic = model.bic\n",
    "    \n",
    "    # PRESS (Prediction Sum of Squares)\n",
    "    hat_matrix = X @ np.linalg.inv(X.T @ X) @ X.T\n",
    "    residuals = model.resid\n",
    "    press = np.sum((residuals / (1 - np.diag(hat_matrix))) ** 2)\n",
    "    \n",
    "    # Adjusted R-squared\n",
    "    r2 = model.rsquared\n",
    "    adj_r2 = 1 - (1 - r2) * (n - 1) / (n - k - 1)\n",
    "    \n",
    "    return aic, bic, press, adj_r2, int(k) #dont consider intercept as a predictor"
   ]
  },
  {
   "cell_type": "markdown",
   "metadata": {},
   "source": [
    "Now, we compute these metrics for each of our model."
   ]
  },
  {
   "cell_type": "code",
   "execution_count": 6,
   "metadata": {},
   "outputs": [],
   "source": [
    "X = np.array(icecream.iloc[:, 1:-1])\n",
    "X = sm.add_constant(X)\n",
    "y = np.array(icecream.iloc[:, 0])\n",
    "models = best_subset_selection(X, y)\n",
    "full_model = sm.OLS(y, X).fit()\n",
    "sse_full = full_model.ssr\n",
    "n = len(y)\n",
    "p_full = X.shape[1]\n",
    "mse_full = sse_full / (n - p_full) \n",
    "\n",
    "results = []\n",
    "for model, combo in models:\n",
    "    predictors = []\n",
    "    aic, bic, press, adj_r2, num_predictors = calculate_metrics(model, X[:, combo], y)\n",
    "    for c in combo:\n",
    "        if c != 0:\n",
    "            predictors.append(icecream.columns[c])\n",
    "    sse_k = model.ssr\n",
    "    num_params = len(combo)\n",
    "    cp = get_cp(sse_k, mse_full, num_params, n)   \n",
    "    results.append({\n",
    "        'Predictors': predictors,\n",
    "        'n_Predictors': num_predictors,\n",
    "        'Adjusted R^2': adj_r2,\n",
    "        'Mallows Cp': cp,\n",
    "        'AIC': aic,\n",
    "        'BIC': bic,\n",
    "        'PRESS': press\n",
    "    })"
   ]
  },
  {
   "cell_type": "markdown",
   "metadata": {},
   "source": [
    "Convert our results to a dataframe which includes all the metrics for each of the models."
   ]
  },
  {
   "cell_type": "code",
   "execution_count": 7,
   "metadata": {},
   "outputs": [
    {
     "data": {
      "text/html": [
       "<div>\n",
       "<style scoped>\n",
       "    .dataframe tbody tr th:only-of-type {\n",
       "        vertical-align: middle;\n",
       "    }\n",
       "\n",
       "    .dataframe tbody tr th {\n",
       "        vertical-align: top;\n",
       "    }\n",
       "\n",
       "    .dataframe thead th {\n",
       "        text-align: right;\n",
       "    }\n",
       "</style>\n",
       "<table border=\"1\" class=\"dataframe\">\n",
       "  <thead>\n",
       "    <tr style=\"text-align: right;\">\n",
       "      <th></th>\n",
       "      <th>Predictors</th>\n",
       "      <th>n_Predictors</th>\n",
       "      <th>Adjusted R^2</th>\n",
       "      <th>Mallows Cp</th>\n",
       "      <th>AIC</th>\n",
       "      <th>BIC</th>\n",
       "      <th>PRESS</th>\n",
       "    </tr>\n",
       "  </thead>\n",
       "  <tbody>\n",
       "    <tr>\n",
       "      <th>0</th>\n",
       "      <td>[income]</td>\n",
       "      <td>1</td>\n",
       "      <td>-0.033334</td>\n",
       "      <td>66.312063</td>\n",
       "      <td>-75.226523</td>\n",
       "      <td>-72.424129</td>\n",
       "      <td>0.143838</td>\n",
       "    </tr>\n",
       "    <tr>\n",
       "      <th>1</th>\n",
       "      <td>[price]</td>\n",
       "      <td>1</td>\n",
       "      <td>0.034082</td>\n",
       "      <td>60.289517</td>\n",
       "      <td>-77.250524</td>\n",
       "      <td>-74.448130</td>\n",
       "      <td>0.137697</td>\n",
       "    </tr>\n",
       "    <tr>\n",
       "      <th>2</th>\n",
       "      <td>[temp]</td>\n",
       "      <td>1</td>\n",
       "      <td>0.587365</td>\n",
       "      <td>10.862432</td>\n",
       "      <td>-102.765980</td>\n",
       "      <td>-99.963585</td>\n",
       "      <td>0.057693</td>\n",
       "    </tr>\n",
       "    <tr>\n",
       "      <th>3</th>\n",
       "      <td>[income, price]</td>\n",
       "      <td>2</td>\n",
       "      <td>-0.001257</td>\n",
       "      <td>62.251945</td>\n",
       "      <td>-75.263590</td>\n",
       "      <td>-71.059997</td>\n",
       "      <td>0.147622</td>\n",
       "    </tr>\n",
       "    <tr>\n",
       "      <th>4</th>\n",
       "      <td>[income, temp]</td>\n",
       "      <td>2</td>\n",
       "      <td>0.679989</td>\n",
       "      <td>3.566900</td>\n",
       "      <td>-109.483295</td>\n",
       "      <td>-105.279703</td>\n",
       "      <td>0.046441</td>\n",
       "    </tr>\n",
       "    <tr>\n",
       "      <th>5</th>\n",
       "      <td>[price, temp]</td>\n",
       "      <td>2</td>\n",
       "      <td>0.605619</td>\n",
       "      <td>9.973407</td>\n",
       "      <td>-103.214426</td>\n",
       "      <td>-99.010834</td>\n",
       "      <td>0.059883</td>\n",
       "    </tr>\n",
       "    <tr>\n",
       "      <th>6</th>\n",
       "      <td>[income, price, temp]</td>\n",
       "      <td>3</td>\n",
       "      <td>0.686570</td>\n",
       "      <td>4.000000</td>\n",
       "      <td>-109.238872</td>\n",
       "      <td>-103.634082</td>\n",
       "      <td>0.047845</td>\n",
       "    </tr>\n",
       "  </tbody>\n",
       "</table>\n",
       "</div>"
      ],
      "text/plain": [
       "              Predictors  n_Predictors  Adjusted R^2  Mallows Cp         AIC  \\\n",
       "0               [income]             1     -0.033334   66.312063  -75.226523   \n",
       "1                [price]             1      0.034082   60.289517  -77.250524   \n",
       "2                 [temp]             1      0.587365   10.862432 -102.765980   \n",
       "3        [income, price]             2     -0.001257   62.251945  -75.263590   \n",
       "4         [income, temp]             2      0.679989    3.566900 -109.483295   \n",
       "5          [price, temp]             2      0.605619    9.973407 -103.214426   \n",
       "6  [income, price, temp]             3      0.686570    4.000000 -109.238872   \n",
       "\n",
       "          BIC     PRESS  \n",
       "0  -72.424129  0.143838  \n",
       "1  -74.448130  0.137697  \n",
       "2  -99.963585  0.057693  \n",
       "3  -71.059997  0.147622  \n",
       "4 -105.279703  0.046441  \n",
       "5  -99.010834  0.059883  \n",
       "6 -103.634082  0.047845  "
      ]
     },
     "execution_count": 7,
     "metadata": {},
     "output_type": "execute_result"
    }
   ],
   "source": [
    "# Convert results to pd DataFrame\n",
    "results_df = pd.DataFrame(results)\n",
    "results_df = results_df.sort_values(by='n_Predictors').reset_index(drop=True)\n",
    "# Display our results\n",
    "pd.set_option('display.max_columns', None)  # Show all columns\n",
    "results_df #0 represents intercept – all models include intercept4"
   ]
  },
  {
   "cell_type": "markdown",
   "metadata": {},
   "source": [
    "Input this dataframe to the following function, we obtain a summary table that indicates the optimal model based on specific criteria. "
   ]
  },
  {
   "cell_type": "code",
   "execution_count": 8,
   "metadata": {},
   "outputs": [],
   "source": [
    "def get_model_summary(df):\n",
    "    adj_r2_idx = df['Adjusted R^2'].idxmax()\n",
    "    aic_idx = df['AIC'].idxmin()\n",
    "    bic_idx = df['BIC'].idxmin()\n",
    "    press_idx = df['PRESS'].idxmin()\n",
    "    diff_ser = df['Mallows Cp'] - (df['n_Predictors']+1)[:-1] # excluding the full model\n",
    "    mallowscp_idx = diff_ser.idxmin()\n",
    "    results = {\n",
    "        'Criteria': ['Adjusted R^2', 'Mallows Cp', 'AIC', 'BIC', 'PRESS'],\n",
    "        'Suggested Model':[df.iloc[adj_r2_idx, 0], df.iloc[mallowscp_idx, 0], df.iloc[aic_idx, 0],\n",
    "                           df.iloc[bic_idx, 0], df.iloc[press_idx, 0]]\n",
    "    }\n",
    "    return pd.DataFrame(results)"
   ]
  },
  {
   "cell_type": "code",
   "execution_count": 9,
   "metadata": {},
   "outputs": [
    {
     "data": {
      "text/html": [
       "<div>\n",
       "<style scoped>\n",
       "    .dataframe tbody tr th:only-of-type {\n",
       "        vertical-align: middle;\n",
       "    }\n",
       "\n",
       "    .dataframe tbody tr th {\n",
       "        vertical-align: top;\n",
       "    }\n",
       "\n",
       "    .dataframe thead th {\n",
       "        text-align: right;\n",
       "    }\n",
       "</style>\n",
       "<table border=\"1\" class=\"dataframe\">\n",
       "  <thead>\n",
       "    <tr style=\"text-align: right;\">\n",
       "      <th></th>\n",
       "      <th>Criteria</th>\n",
       "      <th>Suggested Model</th>\n",
       "    </tr>\n",
       "  </thead>\n",
       "  <tbody>\n",
       "    <tr>\n",
       "      <th>0</th>\n",
       "      <td>Adjusted R^2</td>\n",
       "      <td>[income, price, temp]</td>\n",
       "    </tr>\n",
       "    <tr>\n",
       "      <th>1</th>\n",
       "      <td>Mallows Cp</td>\n",
       "      <td>[income, temp]</td>\n",
       "    </tr>\n",
       "    <tr>\n",
       "      <th>2</th>\n",
       "      <td>AIC</td>\n",
       "      <td>[income, temp]</td>\n",
       "    </tr>\n",
       "    <tr>\n",
       "      <th>3</th>\n",
       "      <td>BIC</td>\n",
       "      <td>[income, temp]</td>\n",
       "    </tr>\n",
       "    <tr>\n",
       "      <th>4</th>\n",
       "      <td>PRESS</td>\n",
       "      <td>[income, temp]</td>\n",
       "    </tr>\n",
       "  </tbody>\n",
       "</table>\n",
       "</div>"
      ],
      "text/plain": [
       "       Criteria        Suggested Model\n",
       "0  Adjusted R^2  [income, price, temp]\n",
       "1    Mallows Cp         [income, temp]\n",
       "2           AIC         [income, temp]\n",
       "3           BIC         [income, temp]\n",
       "4         PRESS         [income, temp]"
      ]
     },
     "execution_count": 9,
     "metadata": {},
     "output_type": "execute_result"
    }
   ],
   "source": [
    "selected_model = get_model_summary(results_df)\n",
    "selected_model"
   ]
  },
  {
   "cell_type": "markdown",
   "metadata": {},
   "source": [
    "### Summary\n",
    "- The full model has the highest Adjusted R-squared, so we choose it over other models since a higher Adjusted R-squared indicates better explanatory power.\n",
    "- For Mallows' Cp, the ideal model is the one where Cp is closest to the number of parameters. Under this criterion, the cons ~ income + temp model is the best choice.\n",
    "- For AIC, BIC, and PRESS, we seek the smallest values. Therefore, based on these criteria, the cons ~ income + temp model is the preferred option. \n"
   ]
  },
  {
   "cell_type": "markdown",
   "metadata": {},
   "source": [
    "### Model Selection Criteria Explained\n",
    "\n",
    "- **Adjusted R-squared:**\n",
    "  \n",
    "  $$\n",
    "  R^2_{\\text{adj}} = 1 - \\frac{\\text{MSE}}{\\text{MST}}\n",
    "  $$\n",
    "\n",
    "  Adjusted R-squared measures how much of the variability in the response variable is explained by the model, adjusting for the number of predictors. We aim for it to be as **large as possible**, indicating better explanatory power while avoiding overfitting.\n",
    "\n",
    "- **Mallows' Cp:**\n",
    "\n",
    "  $$\n",
    "  C_p = \\frac{\\text{SSE}_p}{\\text{MSE}_{\\text{full}}} + 2p - n\n",
    "  $$\n",
    "\n",
    "  Mallows' Cp helps balance bias and variance. We want Cp to be **close to the number of parameters (P)**, which indicates a well-fitted model without unnecessary complexity.\n",
    "\n",
    "- **AIC (Akaike Information Criterion):**\n",
    "\n",
    "  $$\n",
    "  \\text{AIC} = n \\cdot \\log(2\\pi) + n \\cdot \\log(\\text{SSE}_p) - n \\cdot \\log(n) + 2p\n",
    "  $$\n",
    "\n",
    "  AIC assesses model fit while penalizing model complexity. **Lower AIC values** are preferred, indicating a better trade-off between fit and simplicity.\n",
    "\n",
    "- **BIC (Bayesian Information Criterion):**\n",
    "\n",
    "  $$\n",
    "  \\text{BIC} = n \\cdot \\log(2\\pi) + n \\cdot \\log(\\text{SSE}_p) - n \\cdot \\log(n) + (\\log(n)) \\cdot p\n",
    "  $$\n",
    "\n",
    "  Like AIC, BIC also penalizes complexity but more strictly. **Lower BIC values** indicate better model performance, particularly when avoiding overly complex models.\n",
    "\n",
    "- **PRESS (Prediction Sum of Squares):**\n",
    "\n",
    "  $$\n",
    "  \\text{PRESS} = \\sum_{i=1}^{n} \\left( \\frac{e_i}{1 - h_{ii}} \\right)^2\n",
    "  $$\n",
    "\n",
    "  PRESS measures how well the model predicts new data by calculating squared errors from leave-one-out predictions. **Lower PRESS values** are preferred, indicating better predictive accuracy.\n",
    "\n",
    "In summary, an ideal model will have:\n",
    "- **High Adjusted R-squared** for strong explanatory power,\n",
    "- **Cp near the number of parameters (P)** for a balanced model,\n",
    "- **Low AIC, BIC, and PRESS** to ensure the model is both accurate and not overly complex.\n",
    "\n"
   ]
  },
  {
   "cell_type": "markdown",
   "metadata": {},
   "source": [
    "---"
   ]
  },
  {
   "cell_type": "markdown",
   "metadata": {},
   "source": [
    "### Regression Diagnostics"
   ]
  },
  {
   "cell_type": "code",
   "execution_count": 10,
   "metadata": {},
   "outputs": [],
   "source": [
    "def plot_qq(model):\n",
    "    # Plots the QQ-Plot\n",
    "    qq_plot = ProbPlot(model.resid)\n",
    "    fig, ax = plt.subplots(figsize=(8.5, 6))\n",
    "\n",
    "    # Plot the Q-Q plot with customized markers and quartile line for proper visualization\n",
    "    qq_plot.qqplot(ax=ax, line='q', markerfacecolor='blue', markeredgewidth=1, marker='o', alpha=0.7)\n",
    "\n",
    "    # Set plot title and axis labels\n",
    "    ax.set_title('Q-Q Plot of Residuals', fontsize=14)\n",
    "    ax.set_xlabel('Theoretical Quantiles', fontsize=12)\n",
    "    ax.set_ylabel('Sample Quantiles', fontsize=12)\n",
    "\n",
    "    # Display the plot\n",
    "    plt.tight_layout()\n",
    "    plt.show()\n",
    "\n",
    "def plot_residual_histogram(residuals):\n",
    "    # Plots a histogram of residuals.\n",
    "    plt.figure(figsize=(10, 6))\n",
    "    sns.histplot(residuals, kde=True, bins=20)\n",
    "    plt.title('Histogram of Residuals')\n",
    "    plt.xlabel('Residuals')\n",
    "    plt.ylabel('Frequency')\n",
    "    plt.show()\n",
    "\n",
    "def plot_correlation_matrix(X):\n",
    "    # Plots the correlation matrix\n",
    "    plt.figure(figsize=(10.8, 6))\n",
    "    corr = X.corr()\n",
    "    sns.heatmap(corr, annot=True, cmap='Blues', vmin=-1, vmax=1)\n",
    "    plt.title('Correlation Heatmap')\n",
    "    plt.show()\n",
    "\n",
    "def plot_vif(X):\n",
    "    # Plots VIF for each feature.\n",
    "    vif_data = pd.DataFrame()\n",
    "    vif_data['Feature'] = X.columns\n",
    "    vif_data['VIF'] = [variance_inflation_factor(X.values, i) for i in range(X.shape[1])]\n",
    "\n",
    "    return vif_data\n",
    "\n",
    "def check_homoskedasticity(ols_model):\n",
    "    # Extract fitted values and residuals\n",
    "    fitted_values = ols_model.fittedvalues\n",
    "    residuals = ols_model.resid\n",
    "    sqrt_abs_residuals = np.sqrt(np.abs(residuals))  # Square root of absolute residuals\n",
    "\n",
    "    # Set up the figure\n",
    "    plt.figure(figsize=(16, 6))\n",
    "\n",
    "    # Plot: Residuals vs. Fitted Values\n",
    "    plt.subplot(1, 2, 1)\n",
    "    sns.scatterplot(x=fitted_values, y=residuals)\n",
    "    plt.axhline(0, color='red', linestyle='--')\n",
    "    plt.title('Residuals vs Fitted Values')\n",
    "    plt.xlabel('Fitted Values')\n",
    "    plt.ylabel('Residuals')\n",
    "\n",
    "    # Show plots\n",
    "    plt.tight_layout()\n",
    "    plt.show()\n",
    "\n",
    "def check_influential_points(ols_model):\n",
    "    # Extract leverage, Cook's distance\n",
    "    influence = ols_model.get_influence()\n",
    "    leverage = influence.hat_matrix_diag  # Leverage values\n",
    "    cooks_d = influence.cooks_distance[0]  # Cook's distance\n",
    "    \n",
    "    influence_df = pd.DataFrame({\n",
    "        'Leverage': leverage,\n",
    "        'Cooks_Distance': cooks_d\n",
    "    })\n",
    "\n",
    "    # Identify influential points based on Cook's Distance\n",
    "    n = len(ols_model.model.endog)\n",
    "    threshold_cooks = 4 / n\n",
    "    influential_points = influence_df[influence_df['Cooks_Distance'] > threshold_cooks]\n",
    "\n",
    "    # Plot Leverage vs. Cook's Distance\n",
    "    plt.figure(figsize=(21.5, 6))\n",
    "    \n",
    "    plt.subplot(1, 2, 1)\n",
    "    plt.scatter(leverage, cooks_d)\n",
    "    plt.axhline(threshold_cooks, color='red', linestyle='--', label='Cook\\'s Distance Threshold')\n",
    "    plt.xlabel('Leverage')\n",
    "    plt.ylabel('Cook\\'s Distance')\n",
    "    plt.title('Leverage vs. Cook\\'s Distance')\n",
    "    plt.legend()"
   ]
  },
  {
   "cell_type": "code",
   "execution_count": 11,
   "metadata": {},
   "outputs": [],
   "source": [
    "# Fit the model\n",
    "X = icecream[['income', 'price', 'temp']]\n",
    "y = icecream['cons']\n",
    "\n",
    "X = sm.add_constant(X)  # Add constant for intercept\n",
    "model = sm.OLS(y, X).fit()\n",
    "\n",
    "# Get residuals\n",
    "residuals = model.resid"
   ]
  },
  {
   "cell_type": "code",
   "execution_count": 12,
   "metadata": {},
   "outputs": [
    {
     "data": {
      "image/png": "[encoded data removed]",
      "text/plain": [
       "<Figure size 850x600 with 1 Axes>"
      ]
     },
     "metadata": {},
     "output_type": "display_data"
    }
   ],
   "source": [
    "# Q-Q Plot of Residuals\n",
    "plot_qq(model)"
   ]
  },
  {
   "cell_type": "markdown",
   "metadata": {},
   "source": [
    "### Q-Q Plot of Residuals:\n",
    "\n",
    "**Purpose**: The Q-Q (quantile-quantile) plot compares the distribution of the model's residuals to a normal distribution.\n",
    "\n",
    "**Interpretation**:\n",
    "- If the points closely follow the diagonal line, the residuals are approximately normally distributed, which is a key assumption of linear regression.\n",
    "- Deviations from this line, especially in the tails, may indicate issues such as non-normality of residuals, which can affect hypothesis testing and confidence intervals."
   ]
  },
  {
   "cell_type": "code",
   "execution_count": 13,
   "metadata": {},
   "outputs": [
    {
     "data": {
      "image/png": "[encoded data removed]",
      "text/plain": [
       "<Figure size 1000x600 with 1 Axes>"
      ]
     },
     "metadata": {},
     "output_type": "display_data"
    }
   ],
   "source": [
    "# Histogram of Residuals\n",
    "plot_residual_histogram(residuals)"
   ]
  },
  {
   "cell_type": "markdown",
   "metadata": {},
   "source": [
    "### Histogram of Residuals:\n",
    "\n",
    "**Purpose**: This plot shows the frequency distribution of the residuals.\n",
    "\n",
    "**Interpretation**:\n",
    "- A bell-shaped histogram suggests that the residuals are normally distributed, supporting the assumption of linear regression.\n",
    "- If the histogram is skewed or has multiple peaks, it may indicate non-normality, which could violate regression assumptions."
   ]
  },
  {
   "cell_type": "code",
   "execution_count": 14,
   "metadata": {},
   "outputs": [
    {
     "data": {
      "image/png": "[encoded data removed]",
      "text/plain": [
       "<Figure size 1080x600 with 2 Axes>"
      ]
     },
     "metadata": {},
     "output_type": "display_data"
    }
   ],
   "source": [
    "# Correlation Matrix\n",
    "plot_correlation_matrix(X)"
   ]
  },
  {
   "cell_type": "markdown",
   "metadata": {},
   "source": [
    "### Correlation Matrix:\n",
    "\n",
    "**Purpose**: The correlation matrix provides insights into the relationships between independent variables.\n",
    "\n",
    "**Interpretation**:\n",
    "- Values close to +1 or -1 indicate strong correlations, while values near 0 suggest weak correlations.\n",
    "- High correlation between independent variables may suggest multicollinearity, which can inflate the variance of coefficient estimates and make the model unstable."
   ]
  },
  {
   "cell_type": "code",
   "execution_count": 15,
   "metadata": {},
   "outputs": [
    {
     "name": "stdout",
     "output_type": "stream",
     "text": [
      "  Feature          VIF\n",
      "0   const  1614.644163\n",
      "1  income     1.144186\n",
      "2   price     1.035673\n",
      "3    temp     1.144367\n"
     ]
    }
   ],
   "source": [
    "# Variance Inflation Factor (VIF)\n",
    "vif = plot_vif(X)\n",
    "print(vif)"
   ]
  },
  {
   "cell_type": "markdown",
   "metadata": {},
   "source": [
    "### Variance Inflation Factor (VIF):\n",
    "\n",
    "**Purpose**: VIF measures how much the variance of a regression coefficient is increased due to multicollinearity.\n",
    "\n",
    "**Interpretation**:\n",
    "- A VIF value above 5 or 10 is often considered problematic, suggesting significant multicollinearity.\n",
    "- High VIF values indicate that the predictor variable is highly correlated with other variables, which can distort the model’s performance."
   ]
  },
  {
   "cell_type": "code",
   "execution_count": 16,
   "metadata": {},
   "outputs": [
    {
     "data": {
      "image/png": "[encoded data removed]",
      "text/plain": [
       "<Figure size 1600x600 with 1 Axes>"
      ]
     },
     "metadata": {},
     "output_type": "display_data"
    }
   ],
   "source": [
    "# Homoskedasticity\n",
    "check_homoskedasticity(model)"
   ]
  },
  {
   "cell_type": "markdown",
   "metadata": {},
   "source": [
    "### Homoskedasticity:\n",
    "\n",
    "**Purpose**: This analysis checks whether the residuals exhibit constant variance across all levels of the independent variables.\n",
    "\n",
    "**Interpretation**:\n",
    "- If the residuals are randomly scattered around zero with no discernible pattern, homoskedasticity is satisfied, supporting the linear regression assumptions.\n",
    "- Patterns in the residuals, such as funnels or curves, suggest heteroskedasticity (non-constant variance), which can lead to inefficient estimates and affect statistical tests."
   ]
  },
  {
   "cell_type": "code",
   "execution_count": 17,
   "metadata": {},
   "outputs": [
    {
     "data": {
      "image/png": "[encoded data removed]",
      "text/plain": [
       "<Figure size 2150x600 with 1 Axes>"
      ]
     },
     "metadata": {},
     "output_type": "display_data"
    }
   ],
   "source": [
    "# Influential Points\n",
    "check_influential_points(model)"
   ]
  },
  {
   "cell_type": "markdown",
   "metadata": {},
   "source": [
    "### Influential Points:\n",
    "\n",
    "**Purpose**: This analysis identifies observations that have a disproportionate impact on the regression model’s coefficients and predictions.\n",
    "\n",
    "**Interpretation**:\n",
    "- Points identified as influential may indicate outliers or leverage points that could skew the model results.\n",
    "- It’s important to investigate these points further to understand their impact on the model and determine if they should be retained or excluded from analysis.\n"
   ]
  },
  {
   "cell_type": "markdown",
   "metadata": {},
   "source": [
    "---"
   ]
  },
  {
   "cell_type": "markdown",
   "metadata": {},
   "source": [
    "### Extension"
   ]
  },
  {
   "cell_type": "markdown",
   "metadata": {},
   "source": [
    "### What is the Hannan-Quinn Criterion (HQC)?\n",
    "\n",
    "As per the textbook, HQC is defined as\n",
    "\n",
    "> The Hannan-Quinn Criterion (HQC) is a statistical criterion used for model selection in regression analysis. It is designed to assess the goodness-of-fit of a model while penalizing for model complexity, helping to prevent overfitting.\n",
    "\n",
    "\n",
    "$$\n",
    "\\boldsymbol{HQC} = \\boldsymbol{n} \\cdot \\ln\\left(\\frac{\\boldsymbol{RSS}}{\\boldsymbol{n}}\\right) + 2 \\cdot \\boldsymbol{k} \\cdot \\ln(\\ln(\\boldsymbol{n}))\n",
    "$$\n",
    "\n",
    "\n",
    "<!-- <center><img src=\"https://i.imgur.com/hVtjA0A.png\" height=200 width=300></center> -->\n",
    "\n",
    "Where:\n",
    "\n",
    "- n is the number of observations.\n",
    "- k is Indicates the number of estimated parameters in the model (including the intercept).\n",
    "- RSS is the residual sum of squares that result from the model."
   ]
  },
  {
   "cell_type": "markdown",
   "metadata": {},
   "source": [
    "As per our understanding, HQC is defined as\n",
    "\n",
    "> HQC, much like AIC (Akaike Information Criterion) and BIC (Bayesian Information Criterion), is used to evaluate the model and handle the complexity of a model by applying a penalty to the likelihood function based on the number of parameters, helping to prevent overfitting by discouraging overly complex models."
   ]
  },
  {
   "cell_type": "markdown",
   "metadata": {},
   "source": [
    "#### Key Points About HQC:\n",
    "\n",
    "- **Logarithmic Transformation:** The criterion uses natural logarithms to transform ratio of RSS to number of observations, which helps in normalizing the measure.\n",
    "- **Penalty for Complexity:** The term `2×𝑘×ln(ln(𝑛))` acts as a penalty for model complexity, discouraging the use of too many parameters. The logarithmic nature of the penalty allows it to grow at a rate that is less severe than that of BIC, making HQC a moderate choice."
   ]
  },
  {
   "cell_type": "markdown",
   "metadata": {},
   "source": [
    "#### Difference from AIC and BIC:\n",
    "- AIC uses a penalty of `2×k`, meaning it penalizes complexity less than HQC and BIC.\n",
    "- BIC uses `k×ln(n)`, which gives a stronger penalty for model complexity than HQC.\n",
    "- HQC’s penalty term `2×k×ln(ln(n))` grows more slowly than BIC but faster than AIC, making it a middle ground between the two."
   ]
  },
  {
   "cell_type": "markdown",
   "metadata": {},
   "source": [
    "#### What Makes HQC Interesting\n",
    "\n",
    "1. **Asymptotic Properties:**\n",
    "   - HQC has favorable asymptotic properties, meaning that as the sample size increases, it tends to select the correct model more reliably than AIC, making it appealing in larger datasets.\n",
    "\n",
    "2. **Flexibility in Application:**\n",
    "   - HQC can be used for various types of models beyond linear regression, such as nonlinear and time series models, enhancing its versatility in different statistical contexts.\n",
    "\n",
    "3. **Focus on Predictive Accuracy:**\n",
    "   - The primary goal of HQC is to improve predictive accuracy. By balancing model complexity and goodness of fit, it aids in developing models that generalize well to new data."
   ]
  },
  {
   "cell_type": "markdown",
   "metadata": {},
   "source": [
    "### Practical Example"
   ]
  },
  {
   "cell_type": "code",
   "execution_count": 18,
   "metadata": {},
   "outputs": [
    {
     "data": {
      "text/html": [
       "<div>\n",
       "<style scoped>\n",
       "    .dataframe tbody tr th:only-of-type {\n",
       "        vertical-align: middle;\n",
       "    }\n",
       "\n",
       "    .dataframe tbody tr th {\n",
       "        vertical-align: top;\n",
       "    }\n",
       "\n",
       "    .dataframe thead th {\n",
       "        text-align: right;\n",
       "    }\n",
       "</style>\n",
       "<table border=\"1\" class=\"dataframe\">\n",
       "  <thead>\n",
       "    <tr style=\"text-align: right;\">\n",
       "      <th></th>\n",
       "      <th>Model</th>\n",
       "      <th>AIC</th>\n",
       "      <th>BIC</th>\n",
       "      <th>Cp</th>\n",
       "      <th>Adjusted R²</th>\n",
       "      <th>PRESS</th>\n",
       "      <th>HQC</th>\n",
       "    </tr>\n",
       "  </thead>\n",
       "  <tbody>\n",
       "    <tr>\n",
       "      <th>0</th>\n",
       "      <td>income</td>\n",
       "      <td>-75.226523</td>\n",
       "      <td>-72.424129</td>\n",
       "      <td>66.312063</td>\n",
       "      <td>-0.033334</td>\n",
       "      <td>0.143838</td>\n",
       "      <td>-74.330013</td>\n",
       "    </tr>\n",
       "    <tr>\n",
       "      <th>1</th>\n",
       "      <td>price</td>\n",
       "      <td>-77.250524</td>\n",
       "      <td>-74.448130</td>\n",
       "      <td>60.289517</td>\n",
       "      <td>0.034082</td>\n",
       "      <td>0.137697</td>\n",
       "      <td>-76.354014</td>\n",
       "    </tr>\n",
       "    <tr>\n",
       "      <th>2</th>\n",
       "      <td>temp</td>\n",
       "      <td>-102.765980</td>\n",
       "      <td>-99.963585</td>\n",
       "      <td>10.862432</td>\n",
       "      <td>0.587365</td>\n",
       "      <td>0.057693</td>\n",
       "      <td>-101.869470</td>\n",
       "    </tr>\n",
       "    <tr>\n",
       "      <th>3</th>\n",
       "      <td>income + price</td>\n",
       "      <td>-75.263590</td>\n",
       "      <td>-71.059997</td>\n",
       "      <td>62.251945</td>\n",
       "      <td>-0.001257</td>\n",
       "      <td>0.147622</td>\n",
       "      <td>-73.918824</td>\n",
       "    </tr>\n",
       "    <tr>\n",
       "      <th>4</th>\n",
       "      <td>income + temp</td>\n",
       "      <td>-109.483295</td>\n",
       "      <td>-105.279703</td>\n",
       "      <td>3.566900</td>\n",
       "      <td>0.679989</td>\n",
       "      <td>0.046441</td>\n",
       "      <td>-108.138530</td>\n",
       "    </tr>\n",
       "    <tr>\n",
       "      <th>5</th>\n",
       "      <td>price + temp</td>\n",
       "      <td>-103.214426</td>\n",
       "      <td>-99.010834</td>\n",
       "      <td>9.973407</td>\n",
       "      <td>0.605619</td>\n",
       "      <td>0.059883</td>\n",
       "      <td>-101.869660</td>\n",
       "    </tr>\n",
       "    <tr>\n",
       "      <th>6</th>\n",
       "      <td>income + price + temp</td>\n",
       "      <td>-109.238872</td>\n",
       "      <td>-103.634082</td>\n",
       "      <td>4.000000</td>\n",
       "      <td>0.686570</td>\n",
       "      <td>0.047845</td>\n",
       "      <td>-107.445852</td>\n",
       "    </tr>\n",
       "  </tbody>\n",
       "</table>\n",
       "</div>"
      ],
      "text/plain": [
       "                   Model         AIC         BIC         Cp  Adjusted R²  \\\n",
       "0                 income  -75.226523  -72.424129  66.312063    -0.033334   \n",
       "1                  price  -77.250524  -74.448130  60.289517     0.034082   \n",
       "2                   temp -102.765980  -99.963585  10.862432     0.587365   \n",
       "3         income + price  -75.263590  -71.059997  62.251945    -0.001257   \n",
       "4          income + temp -109.483295 -105.279703   3.566900     0.679989   \n",
       "5           price + temp -103.214426  -99.010834   9.973407     0.605619   \n",
       "6  income + price + temp -109.238872 -103.634082   4.000000     0.686570   \n",
       "\n",
       "      PRESS         HQC  \n",
       "0  0.143838  -74.330013  \n",
       "1  0.137697  -76.354014  \n",
       "2  0.057693 -101.869470  \n",
       "3  0.147622  -73.918824  \n",
       "4  0.046441 -108.138530  \n",
       "5  0.059883 -101.869660  \n",
       "6  0.047845 -107.445852  "
      ]
     },
     "execution_count": 18,
     "metadata": {},
     "output_type": "execute_result"
    }
   ],
   "source": [
    "y = icecream['cons']\n",
    "\n",
    "predictors = ['income', 'price', 'temp']\n",
    "combinations = []\n",
    "\n",
    "for i in range(1, len(predictors) + 1):\n",
    "    combinations += list(itertools.combinations(predictors, i))\n",
    "\n",
    "X_full = sm.add_constant(icecream[['income', 'price', 'temp']])\n",
    "y = icecream[['cons']]\n",
    "full_model = sm.OLS(y, X_full).fit()\n",
    "\n",
    "def calculate_cp(model, X, y):\n",
    "    n = len(y)\n",
    "    p = full_model.df_model +1 # number of parameters in the full model\n",
    "    k = model.df_model # number of predictors in the reduced model \n",
    "    sse_p = model.ssr\n",
    "    mse_f = full_model.ssr/(n-p)\n",
    "    cp = (sse_p / mse_f) - n + ((2 * k) + 2)\n",
    "    return cp\n",
    "\n",
    "def calculate_metrics(X, y):\n",
    "    X = sm.add_constant(X)\n",
    "    model = sm.OLS(y, X).fit()\n",
    "    n = len(y)\n",
    "    k = model.df_model + 1  \n",
    "    \n",
    "    aic = model.aic\n",
    "    bic = model.bic\n",
    "    adj_r2 = model.rsquared_adj\n",
    "    log_likelihood = model.llf\n",
    "    hqc = -2 * log_likelihood + 2 * k * np.log(np.log(n))\n",
    "    cp = calculate_cp(model, X, y)\n",
    "    \n",
    "    influence = model.get_influence()\n",
    "    residuals = model.resid\n",
    "    hat_matrix = X.values @ np.linalg.inv(X.values.T @ X) @ X.values.T\n",
    "    press = np.sum((residuals / (1 - np.diag(hat_matrix))) ** 2)\n",
    "    \n",
    "    return aic, bic, cp, adj_r2, press, hqc\n",
    "\n",
    "results = []\n",
    "\n",
    "for combo in combinations:\n",
    "    X = icecream[list(combo)]\n",
    "    aic, bic, cp, adj_r2, press, hqc = calculate_metrics(X, y)\n",
    "    results.append({\n",
    "        'Model': ' + '.join(combo),\n",
    "        'AIC': aic,\n",
    "        'BIC': bic,\n",
    "        'Cp': cp,\n",
    "        'Adjusted R²': adj_r2,\n",
    "        'PRESS': press,\n",
    "        'HQC': hqc\n",
    "    })\n",
    "\n",
    "results_df = pd.DataFrame(results)\n",
    "results_df"
   ]
  },
  {
   "cell_type": "markdown",
   "metadata": {},
   "source": [
    "1. **AIC (Akaike Information Criterion)**: Best model is `income + temp` (AIC = -109.48)\n",
    "\n",
    "2. **BIC (Bayesian Information Criterion)**: Best model is `income + temp` (BIC = -105.28)\n",
    "\n",
    "#### Interpreting HQC:\n",
    "\n",
    "Lower HQC values are better.\n",
    "   - **Best model**: `income + temp` (HQC = -108.14)\n",
    "   - **Next best**: `income + price + temp` (HQC = -107.45)\n",
    "\n",
    "Even HQC picked the `income + temp` model as it has the lowest HQC, slightly better than `income + price + temp`."
   ]
  },
  {
   "cell_type": "markdown",
   "metadata": {},
   "source": [
    "**Note:**\n",
    "\n",
    "- **Comparison with AIC/BIC:** HQC lies between AIC and BIC in terms of model selection. For example, if your HQC value is lower than the AIC or BIC values, it suggests that HQC finds a better balance between fit and complexity.\n",
    "- **Model Selection:** If you are comparing multiple models, you should select the one with the lowest HQC value, as it balances goodness of fit and model complexity.\n",
    "- **Large Sample Sizes:** For large datasets, BIC may over-penalize complexity, leading to an overly simplistic model. In such cases, HQC provides a more reasonable penalty for complexity without selecting too simple a model."
   ]
  },
  {
   "cell_type": "markdown",
   "metadata": {},
   "source": [
    "#### When to Use HQC:\n",
    "- **Large Datasets:** HQC is better suited for large datasets where the number of parameters grows slowly relative to the number of observations. In such cases, the slower-growing penalty term in HQC prevents over-penalizing the model, which could happen with BIC.\n",
    "- **Balancing Simplicity and Complexity:** HQC finds a middle ground between AIC (which tends to overfit) and BIC (which tends to underfit). If you find that AIC suggests overly complex models and BIC suggests overly simple ones, HQC might strike a better balance."
   ]
  },
  {
   "cell_type": "markdown",
   "metadata": {},
   "source": [
    "#### Drawbacks of HQC\n",
    "\n",
    "1. **Complexity in Interpretation:**\n",
    "   - The criteria can be complex to interpret, especially for those new to statistical modeling. It may require a solid understanding of the underlying theory to apply effectively.\n",
    "\n",
    "2. **Sensitivity to Sample Size:**\n",
    "   - HQC is sensitive to the sample size; smaller datasets might not provide reliable estimates, leading to misleading conclusions. As sample size increases, the criterion becomes more reliable, but small samples can skew results.\n",
    "\n",
    "3. **Overfitting Risk:**\n",
    "   - Like other information criteria (AIC, BIC), HQC can still select overly complex models that overfit the data, particularly if the penalty for additional parameters isn't sufficient to discourage unnecessary complexity.\n",
    "\n",
    "4. **Comparative Use:**\n",
    "   - HQC is primarily useful for comparing models rather than providing an absolute measure of model quality. It can indicate which model is better among a set, but it does not inherently indicate how good any individual model is.\n",
    "\n",
    "5. **Assumption of Normality:**\n",
    "   - The criterion assumes that the errors are normally distributed, which may not always hold in practice. If this assumption is violated, it could lead to inaccurate model selection."
   ]
  },
  {
   "cell_type": "markdown",
   "metadata": {},
   "source": [
    "> HQC is an excellent alternative to AIC and BIC, particularly useful when AIC tends to overfit, and BIC tends to underfit. By applying HQC in combination with AIC and BIC, you can make better-informed decisions regarding model selection."
   ]
  },
  {
   "cell_type": "markdown",
   "metadata": {},
   "source": [
    "### References\n",
    "\n",
    "- https://support.numxl.com/hc/en-us/articles/215531183-Appendix-E-Hannan-Quinn-Information-Criterion-HQC\n",
    "- https://en.wikipedia.org/wiki/Hannan%E2%80%93Quinn_information_criterion"
   ]
  },
  {
   "cell_type": "markdown",
   "metadata": {},
   "source": [
    "### What are Polynomial Models?"
   ]
  },
  {
   "cell_type": "markdown",
   "metadata": {},
   "source": [
    "As per the textbook:\n",
    "> Polynomial models are defined as statistical models where the relationship between the dependent variable and the independent variable(s) is expressed as a polynomial equation. For example, a polynomial regression model of degree \\(n\\) can be represented as:\n",
    "$$\n",
    "y = \\boldsymbol{\\beta_0} + \\boldsymbol{\\beta_1} x + \\boldsymbol{\\beta_2} x^2 + \\cdots + \\boldsymbol{\\beta_n} x^n + \\boldsymbol{\\epsilon}\n",
    "$$\n",
    "\n",
    "where \\(y\\) is the dependent variable, \\(x\\) is the independent variable, \\(beta_0, beta_1, ..., beta_n\\) are the coefficients, and \\(epsilon\\) is the error term.\n",
    "\n",
    "As per our understanding:\n",
    "> Polynomial models extend from linear regression by including curvilinear relationships among the variables. Squares and cubes of the independent variables are included, among higher-order terms, to facilitate even more complex learning of the patterns in the data."
   ]
  },
  {
   "cell_type": "markdown",
   "metadata": {},
   "source": [
    "### Difference from Single Power Models\n",
    "- **Form**: Single power models use a straight-line equation $y = \\boldsymbol{\\beta_0} + \\boldsymbol{\\beta_1} x $, while polynomial models can include squared or higher-order terms $ y = \\boldsymbol{\\beta_0} + \\boldsymbol{\\beta_1} x + \\boldsymbol{\\beta_2} x^2 $.\n",
    "- **Fit**: Linear models assume a constant rate of change, whereas polynomial models can adapt to varying rates of change, allowing for curves in the data.\n",
    "- **Complexity**: Linear models are generally simpler and easier to interpret, while polynomial models can become complex as the degree increases."
   ]
  },
  {
   "cell_type": "markdown",
   "metadata": {},
   "source": [
    "#### What Makes Polynomial Models Interesting\n",
    "\n",
    "##### 1. **Local Behavior Control**\n",
    "   - The degree of the polynomial allows analysts to control the curvature of the fit. For example, a quadratic model may be sufficient for data with a single curve, while a cubic model can accommodate more intricate patterns.\n",
    "   - Polynomials can exhibit local maxima and minima, which can be valuable in understanding the dynamics of the data, such as identifying peaks in marketing response curves or other phenomena.\n",
    "\n",
    "##### 2. **Modeling Seasonal and Cyclical Patterns**\n",
    "   - In time series data, polynomial models can effectively capture cyclical patterns and trends over time, such as seasonal fluctuations, by including time as a predictor variable raised to various powers.\n",
    "\n",
    "##### 3. **Data Smoothing**\n",
    "   - Polynomial regression can be used to smooth out noisy data points, providing a clearer view of underlying trends without overfitting, especially when choosing an appropriate degree."
   ]
  },
  {
   "cell_type": "markdown",
   "metadata": {},
   "source": [
    "### Practical Example"
   ]
  },
  {
   "cell_type": "code",
   "execution_count": 19,
   "metadata": {},
   "outputs": [
    {
     "data": {
      "text/html": [
       "<div>\n",
       "<style scoped>\n",
       "    .dataframe tbody tr th:only-of-type {\n",
       "        vertical-align: middle;\n",
       "    }\n",
       "\n",
       "    .dataframe tbody tr th {\n",
       "        vertical-align: top;\n",
       "    }\n",
       "\n",
       "    .dataframe thead th {\n",
       "        text-align: right;\n",
       "    }\n",
       "</style>\n",
       "<table border=\"1\" class=\"dataframe\">\n",
       "  <thead>\n",
       "    <tr style=\"text-align: right;\">\n",
       "      <th></th>\n",
       "      <th>Model</th>\n",
       "      <th>AIC</th>\n",
       "      <th>BIC</th>\n",
       "      <th>Cp</th>\n",
       "      <th>Adjusted R²</th>\n",
       "      <th>PRESS</th>\n",
       "      <th>HQC</th>\n",
       "    </tr>\n",
       "  </thead>\n",
       "  <tbody>\n",
       "    <tr>\n",
       "      <th>0</th>\n",
       "      <td>X</td>\n",
       "      <td>867.594433</td>\n",
       "      <td>872.804773</td>\n",
       "      <td>313.754129</td>\n",
       "      <td>0.931773</td>\n",
       "      <td>34675.114772</td>\n",
       "      <td>869.703151</td>\n",
       "    </tr>\n",
       "    <tr>\n",
       "      <th>1</th>\n",
       "      <td>X + X2</td>\n",
       "      <td>729.454436</td>\n",
       "      <td>737.269947</td>\n",
       "      <td>6.902765</td>\n",
       "      <td>0.983026</td>\n",
       "      <td>8575.856733</td>\n",
       "      <td>732.617514</td>\n",
       "    </tr>\n",
       "    <tr>\n",
       "      <th>2</th>\n",
       "      <td>X + X2 + X3</td>\n",
       "      <td>726.473523</td>\n",
       "      <td>736.894203</td>\n",
       "      <td>4.000000</td>\n",
       "      <td>0.983682</td>\n",
       "      <td>8297.851715</td>\n",
       "      <td>730.690960</td>\n",
       "    </tr>\n",
       "  </tbody>\n",
       "</table>\n",
       "</div>"
      ],
      "text/plain": [
       "         Model         AIC         BIC          Cp  Adjusted R²         PRESS  \\\n",
       "0            X  867.594433  872.804773  313.754129     0.931773  34675.114772   \n",
       "1       X + X2  729.454436  737.269947    6.902765     0.983026   8575.856733   \n",
       "2  X + X2 + X3  726.473523  736.894203    4.000000     0.983682   8297.851715   \n",
       "\n",
       "          HQC  \n",
       "0  869.703151  \n",
       "1  732.617514  \n",
       "2  730.690960  "
      ]
     },
     "execution_count": 19,
     "metadata": {},
     "output_type": "execute_result"
    }
   ],
   "source": [
    "np.random.seed(42)\n",
    "n = 100\n",
    "X = np.linspace(0, 10, n)\n",
    "y = 2 * X**2 + 3 * X + 5 + np.random.normal(0, 10, n)  # Quadratic relationship with noise\n",
    "\n",
    "data = pd.DataFrame({'X': X, 'y': y})\n",
    "\n",
    "data['X2'] = data['X']**2\n",
    "data['X3'] = data['X']**3\n",
    "\n",
    "X_full = sm.add_constant(data[['X', 'X2', 'X3']])\n",
    "y_full = data['y']\n",
    "\n",
    "full_model = sm.OLS(y_full, X_full).fit()\n",
    "\n",
    "models = [\n",
    "    ['X'],          \n",
    "    ['X', 'X2'],    \n",
    "    ['X', 'X2', 'X3']  \n",
    "]\n",
    "\n",
    "results = []\n",
    "\n",
    "for model in models:\n",
    "    X = data[model]\n",
    "    aic, bic, cp, adj_r2, press, hqc = calculate_metrics(X, y_full)\n",
    "    results.append({\n",
    "        'Model': ' + '.join(model),\n",
    "        'AIC': aic,\n",
    "        'BIC': bic,\n",
    "        'Cp': cp,\n",
    "        'Adjusted R²': adj_r2,\n",
    "        'PRESS': press,\n",
    "        'HQC': hqc\n",
    "    })\n",
    "\n",
    "results_df = pd.DataFrame(results)\n",
    "results_df"
   ]
  },
  {
   "cell_type": "markdown",
   "metadata": {},
   "source": [
    "#### Comparison by Metrics\n",
    "\n",
    "1. **X + X² + X³** has the lowest **AIC** with **726.473523**.\n",
    "\n",
    "2. **X + X² + X³** has the lowest **BIC** with **736.89420**.\n",
    "\n",
    "3. **X + X² + X³** has **Cp** closest to parameters with **4.0**.\n",
    "\n",
    "4. **X + X² + X³** has the highest **Adjusted R²** with **0.983682**.\n",
    "\n",
    "5. **X + X² + X³** has the lowest **PRESS** with **8297.851715**.\n",
    "\n",
    "6. **X + X² + X³** has the lowest **HQC** with **730.690960**.\n",
    "\n",
    "**Note**\n",
    "- X + X² is very close in performance to X + X² + X³ across most metrics, especially BIC, PRESS, and HQC. \n",
    "- The very slight increase in Adjusted R² and small decreases in AIC and PRESS for X + X² + X³ suggest that while the cubic term provides a marginally better fit, it doesn't add much value in explaining the data.\n",
    "\n",
    "> While X + X² + X³ technically performs better, X + X² is almost as good in terms of all the important metrics, which makes it a more parsimonious choice with very little loss in performance."
   ]
  },
  {
   "cell_type": "markdown",
   "metadata": {},
   "source": [
    "#### Why the Single Power Model (X) Performs Poorly:\n",
    "- The model with just X shows *crazy* values for Cp and PRESS because a simple linear term cannot capture the true non-linear relationship in the data. As a result, metrics like Cp and PRESS explode, indicating that the model is underfitting. The model can't adequately explain the variability, which causes inflated errors and poor predictive power.\n",
    "  \n",
    "- Real-world data often has non-linear patterns, and restricting the model to just X fails to account for these complexities. This is why introducing higher-order terms (like X² and X³) dramatically improves the model fit and predictive performance. A single power model (just X) is insufficient for such data because it oversimplifies the relationship between the predictor and the response."
   ]
  },
  {
   "cell_type": "markdown",
   "metadata": {},
   "source": [
    "### When to Use Polynomials\n",
    "- **Non-linear Relationships**: When data suggests that the relationship between the independent and dependent variables is not linear, polynomial models can be a good fit.\n",
    "- **Curvilinear Trends**: In cases where trends appear to have curvature (e.g., U-shaped or inverted U-shaped), polynomial regression can capture these shapes effectively.\n",
    "- **Data Patterns**: When exploratory data analysis reveals non-linear patterns, applying polynomial terms can enhance model accuracy.\n",
    "- **Feature Expansion**: Polynomial models can be beneficial in feature engineering, transforming existing features into polynomial terms to improve model performance."
   ]
  },
  {
   "cell_type": "markdown",
   "metadata": {},
   "source": [
    "#### Drawbacks of Polynomial Models\n",
    "\n",
    "1. **Overfitting:**\n",
    "   - Polynomial models can easily overfit the data, especially with higher-degree polynomials. They may fit the training data perfectly but perform poorly on unseen data, as they capture noise instead of the underlying trend.\n",
    "\n",
    "2. **Extrapolation Issues:**\n",
    "   - Polynomial models can behave erratically outside the range of the training data. Extrapolating predictions based on polynomial functions can lead to unrealistic and highly variable results.\n",
    "\n",
    "3. **Multicollinearity:**\n",
    "   - Polynomial terms (e.g., \\(x^2\\), \\(x^3\\)) can introduce multicollinearity, leading to inflated standard errors for the coefficients and making it difficult to determine the individual effect of each predictor.\n"
   ]
  },
  {
   "cell_type": "markdown",
   "metadata": {},
   "source": [
    "> Polynomial models are powerful tools for modeling complex relationships between variables. They provide greater flexibility than linear models, but careful consideration must be taken regarding the degree of the polynomial used to avoid overfitting and multicollinearity issues."
   ]
  },
  {
   "cell_type": "markdown",
   "metadata": {},
   "source": [
    "### What Other Metrics Can We Use to Evaluate a Model?\n",
    "\n",
    "When it comes to evaluating the performance of regression models, relying solely on discussed metrics can sometimes lead to a limited understanding of how well your model is performing. Different metrics capture different aspects of model accuracy and robustness, allowing us to better assess how well our models predict outcomes. \n",
    "\n",
    "In this exploration, we also explored a little bit of two other significant metrics: Mean Absolute Error (MAE) and Mean Absolute Percentage Error (MAPE)."
   ]
  },
  {
   "cell_type": "markdown",
   "metadata": {},
   "source": [
    "#### Mean Absolute Error (MAE)\n",
    "\n",
    "**What is it**: Mean Absolute Error (MAE) is the average of the absolute differences between the predicted and actual values. It quantifies the magnitude of errors in a set of predictions, providing a straightforward measure of model accuracy.\n",
    "\n",
    "**Formula**:\n",
    "$$\n",
    "\\text{MAE} = \\frac{1}{n} \\sum_{i=1}^{n} |y_i - \\hat{y}_i|\n",
    "$$\n",
    "\n",
    "Where:\n",
    "\n",
    "- y_i is the actual value.\n",
    "- y_hatis the predicted value.\n",
    "- n is the total number of observations.\n",
    "\n",
    "**Interpretation**:\n",
    "- MAE is expressed in the same units as the response variable, making it intuitive and easy to interpret. For example, if you are predicting house prices, an MAE of 5,000 dollars means, on average, your predictions are off by 5,000 dollars.\n",
    "- This metric is particularly useful when you want to provide a simple summary of prediction errors without overly penalizing larger discrepancies. Thus, MAE is robust to outliers compared to other metrics, such as RMSE, which emphasizes larger errors due to squaring."
   ]
  },
  {
   "cell_type": "markdown",
   "metadata": {},
   "source": [
    "**When to Use**:\n",
    "- MAE is especially beneficial in applications where precision is important, such as budgeting or inventory management, where stakeholders need to understand the average error in straightforward terms.\n",
    "- Additionally, it is valuable in settings where the data might contain outliers or extreme values that could disproportionately influence other metrics."
   ]
  },
  {
   "cell_type": "markdown",
   "metadata": {},
   "source": [
    "#### Mean Absolute Percentage Error (MAPE)\n",
    "\n",
    "**What is it?**: Mean Absolute Percentage Error (MAPE) measures the average absolute percentage error between predicted and actual values. This metric expresses the error in relative terms, making it easier to compare performance across different datasets or scales.\n",
    "\n",
    "**Formula**:\n",
    "$$\n",
    "\\\n",
    "\\text{MAPE} = \\frac{100}{n} \\sum_{i=1}^{n} \\left| \\frac{y_i - \\hat{y}_i}{y_i} \\right|\n",
    "\\\n",
    "$$\n",
    "\n",
    "Where:\n",
    "\n",
    "- y_i is the actual value.\n",
    "- y_hatis the predicted value.\n",
    "- n is the total number of observations.\n",
    "\n",
    "**Interpretation**:\n",
    "- MAPE is expressed as a percentage, providing an intuitive understanding of the accuracy of predictions relative to actual values. For instance, a MAPE of 10% indicates that, on average, the predictions deviate from the actual values by 10%.\n",
    "- It is particularly useful when you want to convey errors in a way that stakeholders can easily comprehend, as it normalizes the error against the magnitude of the actual values.\n",
    "\n",
    "**When to Use**:\n",
    "- MAPE is commonly used in business settings, such as sales forecasting or demand prediction, where stakeholders are interested in understanding performance relative to the scale of sales or demand.\n",
    "- It is important to note that MAPE is best suited for datasets where the actual values are always positive, as the percentage calculation can yield undefined results when actual values are zero."
   ]
  },
  {
   "cell_type": "markdown",
   "metadata": {},
   "source": [
    "#### Practical Example"
   ]
  },
  {
   "cell_type": "code",
   "execution_count": 20,
   "metadata": {},
   "outputs": [
    {
     "name": "stdout",
     "output_type": "stream",
     "text": [
      "Mean Absolute Error (MAE): 1.5538603880374313\n",
      "Mean Absolute Percentage Error (MAPE): 9.48%\n"
     ]
    }
   ],
   "source": [
    "from sklearn.model_selection import train_test_split\n",
    "from sklearn.linear_model import LinearRegression\n",
    "from sklearn.metrics import mean_absolute_error, mean_absolute_percentage_error\n",
    "\n",
    "np.random.seed(42)\n",
    "\n",
    "n = 5000\n",
    "X = np.linspace(0, 10, n)  \n",
    "y = 3 * X + 7 + np.random.normal(0, 2, n)  \n",
    "\n",
    "df = pd.DataFrame({'X': X, 'y': y})\n",
    "\n",
    "X_train, X_test, y_train, y_test = train_test_split(df[['X']], df['y'], test_size=0.2, random_state=42)\n",
    "\n",
    "model = LinearRegression()\n",
    "model.fit(X_train, y_train)\n",
    "\n",
    "y_pred = model.predict(X_test)\n",
    "\n",
    "mae = mean_absolute_error(y_test, y_pred)\n",
    "\n",
    "mape = mean_absolute_percentage_error(y_test, y_pred) * 100 \n",
    "\n",
    "print(f'Mean Absolute Error (MAE): {mae}')\n",
    "print(f'Mean Absolute Percentage Error (MAPE): {mape:.2f}%')"
   ]
  },
  {
   "cell_type": "markdown",
   "metadata": {},
   "source": [
    "1. **Mean Absolute Error (MAE): 1.55**\n",
    "\n",
    "   The MAE value of **1.55** indicates that, on average, the predicted values deviate from the actual values by approximately **1.55 units**. This means that, in terms of the scale of the response variable `y`, our predictions are off by about 1.55 units on average. Lower MAE values are preferred, as they indicate better model performance in absolute terms. \n",
    "\n",
    "   - **Example interpretation**: If `y` represents some quantity like sales in units, then the predicted sales values are off by about 1.55 units from the actual sales on average. Depending on the context and scale of `y`, this could be considered a small or large error.\n",
    "\n",
    "2. **Mean Absolute Percentage Error (MAPE): 9.48%**\n",
    "\n",
    "   The MAPE value of **9.48%** means that, on average, the predictions are about **9.48% off** from the actual values. MAPE provides a relative measure of error, which is particularly useful when the range of the response variable is wide or when you need to compare the model’s performance across datasets with different scales.\n",
    "\n",
    "   - **Example interpretation**: If `y` represents some sales figures (e.g., dollars, units sold), then the model's predictions are approximately **9.48% less accurate** compared to the actual values. A MAPE of less than 10% is generally considered a reasonably accurate model, so this result suggests that the model is doing fairly well in predicting `y`."
   ]
  },
  {
   "cell_type": "markdown",
   "metadata": {},
   "source": [
    "> Both Mean Absolute Error (MAE) and Mean Absolute Percentage Error (MAPE) provide valuable insights into model performance, each with its strengths and weaknesses. MAE offers a clear understanding of average errors in the same units as the predictions, making it easy to interpret. MAPE, on the other hand, provides a relative perspective on prediction accuracy, facilitating comparisons across different scales."
   ]
  }
 ],
 "metadata": {
  "kernelspec": {
   "display_name": "python-general",
   "language": "python",
   "name": "python3"
  },
  "language_info": {
   "codemirror_mode": {
    "name": "ipython",
    "version": 3
   },
   "file_extension": ".py",
   "mimetype": "text/x-python",
   "name": "python",
   "nbconvert_exporter": "python",
   "pygments_lexer": "ipython3",
   "version": "3.12.2"
  }
 },
 "nbformat": 4,
 "nbformat_minor": 2
}
